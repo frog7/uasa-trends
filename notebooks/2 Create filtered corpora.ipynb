{
 "cells": [
  {
   "cell_type": "code",
   "execution_count": null,
   "metadata": {},
   "outputs": [
    {
     "name": "stderr",
     "output_type": "stream",
     "text": [
      "C:\\programs\\miniconda3\\envs\\uasa-trends\\lib\\site-packages\\fuzzywuzzy\\fuzz.py:11: UserWarning: Using slow pure-python SequenceMatcher. Install python-Levenshtein to remove this warning\n",
      "  warnings.warn('Using slow pure-python SequenceMatcher. Install python-Levenshtein to remove this warning')\n",
      "C:\\programs\\miniconda3\\envs\\uasa-trends\\lib\\site-packages\\wosis\\query.py:49: YAMLLoadWarning: calling yaml.load() without Loader=... is deprecated, as the default Loader is unsafe. Please read https://msg.pyyaml.org/load for full details.\n",
      "  wos_config = yaml.load(config)\n"
     ]
    }
   ],
   "source": [
    "%run \"Common setup.ipynb\""
   ]
  },
  {
   "cell_type": "markdown",
   "metadata": {},
   "source": [
    "The Web of Science licence agreement states that we should not make public certain information/metadata.\n",
    "To conform to this agreement we have to hide certain columns when printing out DataFrames"
   ]
  },
  {
   "cell_type": "code",
   "execution_count": null,
   "metadata": {},
   "outputs": [],
   "source": [
    "requested_corpora_fn = \"{}/rest_requested_corpora.txt\".format(TMP_DIR)\n",
    "\n",
    "RC = mk.RecordCollection(requested_corpora_fn)\n",
    "\n",
    "expected_num_records = 11718\n",
    "num_records = len(RC)\n",
    "\n",
    "assert num_records == expected_num_records, \\\n",
    "    \"Mismatch in number of records - expected {}, got {}\".format(expected_num_records, num_records)\n",
    "\n",
    "print(\"Corpora consists of\", num_records, \"Publications\")\n",
    "\n",
    "corpora_df = wosis.rc_to_df(RC)"
   ]
  },
  {
   "cell_type": "markdown",
   "metadata": {},
   "source": [
    "The corpora should all contain valid DOIs to be included"
   ]
  },
  {
   "cell_type": "code",
   "execution_count": null,
   "metadata": {},
   "outputs": [],
   "source": [
    "corpora_df, removed_pubs = wosis.constrain.remove_empty_DOIs(corpora_df)"
   ]
  },
  {
   "cell_type": "markdown",
   "metadata": {},
   "source": [
    "Then we remove conferences and workshops"
   ]
  },
  {
   "cell_type": "code",
   "execution_count": null,
   "metadata": {},
   "outputs": [],
   "source": [
    "corpora_df = wosis.remove_by_journals(corpora_df, [\"CONFERENCE\", \"WORKSHOP\", \"PROCEEDINGS\", \"SYMPOSIUM\", \"CONGRESS\"])"
   ]
  },
  {
   "cell_type": "code",
   "execution_count": null,
   "metadata": {},
   "outputs": [],
   "source": [
    "corpora_df = wosis.remove_by_title(corpora_df, [\"CONFERENCE\", \"WORKSHOP\", \"PROCEEDINGS\", \"SYMPOSIUM\", \"CONGRESS\"])"
   ]
  },
  {
   "cell_type": "code",
   "execution_count": null,
   "metadata": {},
   "outputs": [],
   "source": [
    "corpora_df = wosis.remove_by_keywords(corpora_df, ['lifecycle', 'life-cycle', 'life cycle', 'product life cycle'])"
   ]
  },
  {
   "cell_type": "code",
   "execution_count": null,
   "metadata": {},
   "outputs": [],
   "source": [
    "corpora_df = wosis.remove_by_keywords(corpora_df, ['image processing'])"
   ]
  },
  {
   "cell_type": "markdown",
   "metadata": {},
   "source": [
    "Filtering unrelated journals"
   ]
  },
  {
   "cell_type": "code",
   "execution_count": null,
   "metadata": {},
   "outputs": [],
   "source": [
    "# List of unrelated Journals - will be matched by partial string\n",
    "unrelated_jo = ['PSYCHOL', 'BIOINFO', 'BUSINESS INFORMATION', 'MANUFACTURING', \n",
    "                'BIOLOGICALLY INSPIRED COGNITIVE ARCHITECTURES', 'COMPLEXITY', 'INDUSTRIAL ECOLOGY',\n",
    "                'QUANTITATIVE FINANCE', 'VIRTUAL REALITY', 'COMMUNICATION NETWORKS', 'COMPUTER METHODS AND PROGRAMS IN BIOMEDICINE',\n",
    "                'ARTIFICIAL INTELLIGENCE IN EDUCATION', 'INSURANCE MATHEMATICS & ECONOMICS', 'ASTIN BULLETIN', \n",
    "                'COMMUNICATION TECHNOLOGY', 'COMPUTERS & STRUCTURES', 'CHEMOSPHERE', 'VISUAL COMPUTING',\n",
    "                 'WASTE MANAGEMENT', 'OPTIMIZATION AND ENGINEERING',\n",
    "                'COMPUTERS & OPERATIONS RESEARCH', 'INTERNATIONAL JOURNAL OF LIFE CYCLE ASSESSMENT',\n",
    "                'COMPUTATIONAL MECHANICS', 'JOURNAL OF CLEANER PRODUCTION', 'JOURNAL OF ORGANIZATIONAL COMPUTING AND ELECTRONIC COMMERCE'\n",
    "               ]\n",
    "corpora_df = wosis.remove_by_journals(corpora_df, unrelated_jo)"
   ]
  },
  {
   "cell_type": "markdown",
   "metadata": {},
   "source": [
    "Now we filter out journals that only have 3 papers"
   ]
  },
  {
   "cell_type": "code",
   "execution_count": null,
   "metadata": {
    "scrolled": true
   },
   "outputs": [],
   "source": [
    "# Journals have to have more than 3 papers to be included\n",
    "corpora_df = corpora_df.groupby('SO').filter(lambda x: x['DOI'].count() > 3)\n",
    "\n",
    "print(\"Corpora consists of\", len(corpora_df), \"Publications\")"
   ]
  },
  {
   "cell_type": "markdown",
   "metadata": {},
   "source": [
    "The initially filtered corpora is written out for further analysis"
   ]
  },
  {
   "cell_type": "code",
   "execution_count": null,
   "metadata": {},
   "outputs": [],
   "source": [
    "filtered_corpora = wosis.extract_recs(corpora_df.id, RC)\n",
    "\n",
    "filtered_corpora_fn = \"{}/rest_filtered_corpora.txt\".format(TMP_DIR)\n",
    "\n",
    "wosis.export_ris_file(filtered_corpora, filtered_corpora_fn)"
   ]
  },
  {
   "cell_type": "markdown",
   "metadata": {},
   "source": [
    "This can then be read in for later analysis with:\n",
    "    \n",
    "```python\n",
    "import metaknowledge as mk\n",
    "RC = mk.RecordCollection(filtered_corpora_fn)\n",
    "```"
   ]
  },
  {
   "cell_type": "markdown",
   "metadata": {},
   "source": [
    "For transparency and reproducibility reasons, the papers removed are listed in the indicated file below"
   ]
  },
  {
   "cell_type": "code",
   "execution_count": null,
   "metadata": {},
   "outputs": [],
   "source": [
    "tmp_rest_df = wosis.rc_to_df(RC)\n",
    "\n",
    "all_removed = tmp_rest_df.loc[~tmp_rest_df.id.isin(corpora_df.id)]\n",
    "\n",
    "removed_pubs_fn = \"{}/initially_removed.txt\".format(DATA_DIR)\n",
    "\n",
    "all_removed.loc[:, ~all_removed.columns.isin(HIDE_COLUMNS)].to_csv(removed_pubs_fn)"
   ]
  },
  {
   "cell_type": "code",
   "execution_count": null,
   "metadata": {},
   "outputs": [],
   "source": []
  }
 ],
 "metadata": {
  "kernelspec": {
   "display_name": "biblio",
   "language": "python",
   "name": "uasa-trends"
  },
  "language_info": {
   "codemirror_mode": {
    "name": "ipython",
    "version": 3
   },
   "file_extension": ".py",
   "mimetype": "text/x-python",
   "name": "python",
   "nbconvert_exporter": "python",
   "pygments_lexer": "ipython3",
   "version": "3.7.3"
  }
 },
 "nbformat": 4,
 "nbformat_minor": 2
}
